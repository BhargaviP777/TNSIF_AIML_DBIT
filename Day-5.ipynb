{
 "cells": [
  {
   "cell_type": "code",
   "execution_count": null,
   "id": "9bacea17",
   "metadata": {},
   "outputs": [],
   "source": [
    "n = int(input(\"Enter number of employees: \"))\n",
    "employees = {}\n",
    "\n",
    "for i in range(n):\n",
    "    name = input(f\"Enter name of employee {i+1}: \")\n",
    "    number = input(f\"Enter employee number of {name}: \")\n",
    "    employees[name] = number\n",
    "\n",
    "print(\"\\nEmployee Details:\")\n",
    "print(employees)"
   ]
  }
 ],
 "metadata": {
  "kernelspec": {
   "display_name": "base",
   "language": "python",
   "name": "python3"
  },
  "language_info": {
   "codemirror_mode": {
    "name": "ipython",
    "version": 3
   },
   "file_extension": ".py",
   "mimetype": "text/x-python",
   "name": "python",
   "nbconvert_exporter": "python",
   "pygments_lexer": "ipython3",
   "version": "3.13.5"
  }
 },
 "nbformat": 4,
 "nbformat_minor": 5
}
